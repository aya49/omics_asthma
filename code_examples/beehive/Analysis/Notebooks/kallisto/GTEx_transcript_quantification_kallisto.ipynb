{
 "cells": [
  {
   "cell_type": "markdown",
   "metadata": {},
   "source": [
    "# Transcript quantification with kallisto\n",
    "\n",
    "[kallisto](https://pachterlab.github.io/kallisto/about) is a tool that performs fast quantification with bootstrapping for transcripts, using *pseudoalignment* for rapid mapping. In order to perform transcript quantificaiton, we first need to create an index of the **transcriptome**.\n",
    "\n",
    "Note: kallisto and companion tools have been installed under:\n",
    "\n",
    "    /tigress/BEE/tools_group/bin/\n",
    "Make sure to add this directory to your PATH to run the command directly.\n",
    "\n",
    "First, we can obtain the transcriptome fasta files from:\n",
    "\n",
    "http://ftp.ensembl.org/pub/grch37/release-85/fasta/homo_sapiens/\n",
    "\n",
    "Note that as for RNA-seq samples with GTEx, we are still using GRCh37 (or hg18). This is due to the fact that the genotyping, as well as RNA quantificaiton and eQTL studies for the GTEx consortium, is based on this version of the genome.\n",
    "\n",
    "[A quick overview of the differences between GRCh37 and GRCh38](http://genomeref.blogspot.com/2013/12/announcing-grch38.html)\n",
    "\n",
    "I downloaded the cdna and also ncrna (non-coding RNA, since some of our reads do come from this library as well) data for this release under:\n",
    "\n",
    "    /tigress/BEE/RNAseq/Data/Resources/transcriptome\n",
    "Note that there is also a cdna and ncrna combined version:\n",
    "\n",
    "    Homo_sapiens.GRCh37.cdna_ncrna.fa.gz\n",
    "\n",
    "Now, we can run the commands:"
   ]
  },
  {
   "cell_type": "code",
   "execution_count": null,
   "metadata": {
    "collapsed": true
   },
   "outputs": [],
   "source": [
    "%%bash\n",
    "kallisto index -i /tigress/BEE/RNAseq/Data/kallisto/GRCh37.p13.transcriptome.idx /tigress/BEE/RNAseq/Data/Resources/transcriptome/Homo_sapiens.GRCh37.cdna.all.fa.gz\n",
    "\n",
    "kallisto index -i /tigress/BEE/RNAseq/Data/kallisto/GRCh37.p13.transcriptome_ncrna.idx /tigress/BEE/RNAseq/Data/Resources/transcriptome/Homo_sapiens.GRCh37.cdna_ncrna.fa.gz"
   ]
  },
  {
   "cell_type": "markdown",
   "metadata": {},
   "source": [
    "The outputs are following:\n",
    "\n",
    "    [build] loading fasta file /tigress/BEE/RNAseq/Data/Resources/transcriptome/Homo_sapiens.GRCh37.cdna.all.fa.gz\n",
    "\t[build] k-mer length: 31\n",
    "\t[build] warning: clipped off poly-A tail (longer than 10)\n",
    "\t        from 1401 target sequences\n",
    "\t[build] counting k-mers ... done.\n",
    "\t[build] building target de Bruijn graph ...  done \n",
    "\t[build] creating equivalence classes ...  done\n",
    "\t[build] target de Bruijn graph has 1022307 contigs and contains 101446106 k-mers \n",
    "    \n",
    "for the cdna-only version, and \n",
    "\n",
    "    [build] loading fasta file /tigress/BEE/RNAseq/Data/Resources/transcriptome/Homo_sapiens.GRCh37.cdna_ncrna.fa.gz\n",
    "\t[build] k-mer length: 31\n",
    "\t[build] warning: clipped off poly-A tail (longer than 10)\n",
    "\t        from 1578 target sequences\n",
    "\t[build] warning: replaced 1 non-ACGUT characters in the input sequence\n",
    "\t        with pseudorandom nucleotides\n",
    "\t[build] counting k-mers ... done.\n",
    "\t[build] building target de Bruijn graph ...  done \n",
    "\t[build] creating equivalence classes ...  done\n",
    "\t[build] target de Bruijn graph has 1202693 contigs and contains 117035043 k-mers \n",
    "\n",
    "for the cdna-ncrna combined version.\n",
    "\n",
    "## Running kallisto on gtex samples\n",
    "\n",
    "Our target runs are going from the trimmed RNA-seq reads from gtex, located at:\n",
    "\n",
    "    /tigress/BEE/gtex/data/phenotype/expression/trimmed_rna_seq_reads/\n",
    "\n",
    "For more details on how these were prepared, consult [Ian's notebook on the qc and trimming steps](http://nbviewer.jupyter.org/gist/IanMcDowell/adbbbc31d5c840680536).\n",
    "\n",
    "An example call for the quantification run on transcripts from the index we built earlier would be the following:"
   ]
  },
  {
   "cell_type": "code",
   "execution_count": null,
   "metadata": {
    "collapsed": true
   },
   "outputs": [],
   "source": [
    "%%bash\n",
    "\n",
    "kallisto quant -i /tigress/BEE/RNAseq/Data/kallisto/GRCh37.p13.genome.idx -o /tigress/BEE/RNAseq/Output/kallisto/SRR1476125 \\\n",
    "-b 100 /tigress/BEE/gtex/data/phenotype/expression/trimmed_rna_seq_reads/SRR1476125_1.trimmed.P.fastq.bz2 \\\n",
    "/tigress/BEE/gtex/data/phenotype/expression/trimmed_rna_seq_reads/SRR1476125_2.trimmed.P.fastq.bz2"
   ]
  },
  {
   "cell_type": "markdown",
   "metadata": {},
   "source": [
    "The result of running the above code is the following:\n",
    "\n",
    "    [quant] fragment length distribution will be estimated from the data\n",
    "\t[index] k-mer length: 31\n",
    "\t[index] number of targets: 180,253\n",
    "\t[index] number of k-mers: 101,446,106\n",
    "\t[index] number of equivalence classes: 693,993\n",
    "\t[quant] running in paired-end mode\n",
    "\t[quant] will process pair 1: /tigress/BEE/RNAseq/Data/Expression/SRR1476125_1.trimmed.P.fastq\n",
    "\t                             /tigress/BEE/RNAseq/Data/Expression/SRR1476125_2.trimmed.P.fastq\n",
    "\t[quant] finding pseudoalignments for the reads ... done\n",
    "\t[quant] processed 37,417,059 reads, 31,650,885 reads pseudoaligned\n",
    "\t[quant] estimated average fragment length: 195.191\n",
    "\t[   em] quantifying the abundances ... done\n",
    "\t[   em] the Expectation-Maximization algorithm ran for 1,261 rounds\n",
    "\t[bstrp] running EM for the bootstrap: 100\n",
    "    \n",
    "The quantification plus 100 bootstraps took about 1.5 hours to finish on the head node (expected to be much faster when running in cluster with multiple cores). The version with ncrna had the following output:\n",
    "\n",
    "    [quant] fragment length distribution will be estimated from the data\n",
    "\t[index] k-mer length: 31\n",
    "\t[index] number of targets: 215,170\n",
    "\t[index] number of k-mers: 117,035,043\n",
    "\t[index] number of equivalence classes: 808,924\n",
    "\t[quant] running in paired-end mode\n",
    "\t[quant] will process pair 1: /dev/fd/63\n",
    "\t                             /dev/fd/62\n",
    "\t[quant] finding pseudoalignments for the reads ... done\n",
    "\t[quant] processed 37,417,059 reads, 32,582,173 reads pseudoaligned\n",
    "\t[quant] estimated average fragment length: 193.658\n",
    "\t[   em] quantifying the abundances ... done\n",
    "\t[   em] the Expectation-Maximization algorithm ran for 1,298 rounds\n",
    "\t[bstrp] running EM for the bootstrap: 100\n",
    "    \n",
    "We can see that including ncrna increases the number of reads mapped about 1,000,000, getting it up to ~87% of all reads, but the tradeoff was in time consumed (more than 0.5 hours longer to run).\n",
    "\n",
    "### Testing the specs of various kallisto bootstraps with an example tissue: Pancreas\n",
    "\n",
    "Pancreas has 170 samples (148 with genotypes) in the release we are using. Let's quantify them, with bootstrap samples, and for both cdna and cdna_ncrna versions:"
   ]
  },
  {
   "cell_type": "code",
   "execution_count": 4,
   "metadata": {
    "collapsed": false
   },
   "outputs": [
    {
     "name": "stdout",
     "output_type": "stream",
     "text": [
      "Samples to process: 119\n",
      "sh /tigress/BEE/RNAseq/Scripts/kallisto/batch/ka_quant_7A3I9US6.sh\n",
      "Don't forget to change the permissions for the master scripts before distributing to other users!\n"
     ]
    }
   ],
   "source": [
    "%%bash\n",
    "\n",
    "python /tigress/BEE/RNAseq/Scripts/kallisto/quantification_script_wrapper.py 5 1 40 pancreas"
   ]
  },
  {
   "cell_type": "markdown",
   "metadata": {},
   "source": [
    "Refer to this code: [quantification_script_wrapper](https://github.com/bee-hive/bjo-notebook/blob/master/Scripts/RNAseq/kallisto/quantification_script_wrapper.py)"
   ]
  },
  {
   "cell_type": "code",
   "execution_count": null,
   "metadata": {
    "collapsed": true
   },
   "outputs": [],
   "source": []
  }
 ],
 "metadata": {
  "kernelspec": {
   "display_name": "Python 3",
   "language": "python",
   "name": "python3"
  },
  "language_info": {
   "codemirror_mode": {
    "name": "ipython",
    "version": 3
   },
   "file_extension": ".py",
   "mimetype": "text/x-python",
   "name": "python",
   "nbconvert_exporter": "python",
   "pygments_lexer": "ipython3",
   "version": "3.5.2"
  }
 },
 "nbformat": 4,
 "nbformat_minor": 0
}
