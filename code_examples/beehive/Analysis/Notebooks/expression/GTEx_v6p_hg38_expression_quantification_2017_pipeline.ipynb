{
 "cells": [
  {
   "cell_type": "markdown",
   "metadata": {},
   "source": [
    "# GTEx v6p hg38 expression quantification, 2017 pipeline (Codename Silver)\n",
    "\n",
    "## 1. STAR first pass alignment\n",
    "\n",
    "### Download the most up-to-date genome and annotation files for mapping\n",
    "\n",
    "We're going to use Gencode v.26 and genome GRCh38.10 for our mapping pipeline"
   ]
  },
  {
   "cell_type": "code",
   "execution_count": null,
   "metadata": {
    "collapsed": true
   },
   "outputs": [],
   "source": [
    "%%bash\n",
    "\n",
    "cd /tigress/BEE/gtex/external_sources/hg38_silver\n",
    "# GENCODE v.26\n",
    "wget ftp://ftp.sanger.ac.uk/pub/gencode/Gencode_human/release_26/gencode.v26.annotation.gtf.gz\n",
    "gunzip gencode.v26.annotation.gtf.gz\n",
    "# GENOME GRCh38 patch 10\n",
    "wget ftp://ftp.ensembl.org/pub/release-88/fasta/homo_sapiens/dna/Homo_sapiens.GRCh38.dna.primary_assembly.fa.gz\n",
    "gunzip Homo_sapiens.GRCh38.dna.primary_assembly.fa.gz"
   ]
  },
  {
   "cell_type": "markdown",
   "metadata": {},
   "source": [
    "### Generate STAR genome from hg38 and GENCODE v.26 annotation"
   ]
  },
  {
   "cell_type": "markdown",
   "metadata": {},
   "source": [
    "Refer to: <code>\n",
    "https://github.com/bee-hive/RNAseq_pipeline/blob/master/Scripts/processing/silver/STAR_1pass_genomeGenerate_silver.slurm\n",
    "</code>\n",
    "\n",
    "In particular, we use the parameter set:\n",
    "<code>\n",
    "--runMode genomeGenerate \\\n",
    "--sjdbGTFfile /tigress/BEE/gtex/external_sources/hg38_silver/gencode.v26.annotation.mod.gtf \\\n",
    "--sjdbOverhang 75 \\\n",
    "--genomeDir $STAR_genomeDir \\\n",
    "--genomeFastaFiles /tigress/BEE/gtex/external_sources/hg38_silver/Homo_sapiens.GRCh38.dna.primary_assembly.fa \\\n",
    "--runThreadN 32\n",
    "</code>"
   ]
  },
  {
   "cell_type": "code",
   "execution_count": null,
   "metadata": {
    "collapsed": true
   },
   "outputs": [],
   "source": [
    "%%bash\n",
    "\n",
    "mkdir /tigress/BEE/gtex/results/group_general/joblogs\n",
    "mkdir /tigress/BEE/gtex/results/group_general/joblogs/STAR_1pass_hg38\n",
    "chmod -R 775 /tigress/BEE/gtex/results/group_general/joblogs\n",
    "\n",
    "mkdir /tigress/BEE/gtex/data/phenotype/expression/mapped_rna_seq_reads/silver\n",
    "mkdir /tigress/BEE/gtex/data/phenotype/expression/mapped_rna_seq_reads/silver/STAR_1pass_hg38\n",
    "chmod -R 775 /tigress/BEE/gtex/data/phenotype/expression/mapped_rna_seq_reads/silver\n",
    "\n",
    "# I had to adjust the file gencode.v26.annotation.gtf to have chromosome names consistent with the .fa file\n",
    "# It's saved as gencode.v26.annotation.mod.gtf\n",
    "\n",
    "cd /tigress/BEE/RNAseq/Scripts/processing/silver/\n",
    "sbatch STAR_1pass_genomeGenerate_silver.slurm "
   ]
  },
  {
   "cell_type": "markdown",
   "metadata": {},
   "source": [
    "The generated STAR 1-pass genome can be found here:\n",
    "\n",
    "<code>/tigress/BEE/gtex/data/silver/STAR_hg38_1pass/</code>"
   ]
  },
  {
   "cell_type": "markdown",
   "metadata": {},
   "source": [
    "### STAR 1-pass using generated genome\n",
    "\n",
    "Refer to: <code>\n",
    "https://github.com/bee-hive/RNAseq_pipeline/blob/master/Scripts/processing/silver/STAR_1pass_wrapper_silver.py\n",
    "</code>\n",
    "\n",
    "The jobs unzip the fastq files into the scratch directory and perform mapping from there: <code>/scratch/gpfs/$USER/</code>\n",
    "\n",
    "Therefore, we need to partition the samples into multiple jobs to reduce the file i/o overhead. The two parameters in the following script are the number of samples per job, and the number of batches the jobs are organized into:"
   ]
  },
  {
   "cell_type": "code",
   "execution_count": null,
   "metadata": {
    "collapsed": true
   },
   "outputs": [],
   "source": [
    "%%bash\n",
    "\n",
    "python /tigress/BEE/RNAseq/Scripts/processing/silver/STAR_1pass_wrapper_silver.py 10 8"
   ]
  },
  {
   "cell_type": "markdown",
   "metadata": {},
   "source": [
    "Now we run the following files:\n",
    "<code>\n",
    "sh /tigress/BEE/RNAseq/Scripts/processing/silver/batch/STAR_1pass_wrapper_1.sh\n",
    "sh /tigress/BEE/RNAseq/Scripts/processing/silver/batch/STAR_1pass_wrapper_2.sh\n",
    "sh /tigress/BEE/RNAseq/Scripts/processing/silver/batch/STAR_1pass_wrapper_3.sh\n",
    "sh /tigress/BEE/RNAseq/Scripts/processing/silver/batch/STAR_1pass_wrapper_4.sh\n",
    "sh /tigress/BEE/RNAseq/Scripts/processing/silver/batch/STAR_1pass_wrapper_5.sh\n",
    "sh /tigress/BEE/RNAseq/Scripts/processing/silver/batch/STAR_1pass_wrapper_6.sh\n",
    "sh /tigress/BEE/RNAseq/Scripts/processing/silver/batch/STAR_1pass_wrapper_7.sh\n",
    "sh /tigress/BEE/RNAseq/Scripts/processing/silver/batch/STAR_1pass_wrapper_8.sh\n",
    "</code>\n",
    "\n",
    "The STAR 1-pass SJ files can be found here:\n",
    "\n",
    "<code>/tigress/BEE/gtex/data/phenotype/expression/mapped_rna_seq_reads/silver/STAR_1pass_hg38/</code>\n",
    "\n",
    "### Obtain the novel sequence junctions, and re-generate the STAR genome for 2nd pass\n",
    "\n",
    "From the SJ.out.tab files that have the non-canonical splice junctions, we can accumulate the novel sequence junctions that have been found in >1% of the samples (we can also tweak this percentage to be more conservative/permissive)."
   ]
  },
  {
   "cell_type": "code",
   "execution_count": null,
   "metadata": {
    "collapsed": true
   },
   "outputs": [],
   "source": [
    "%%bash\n",
    "\n",
    "sbatch /tigress/BEE/RNAseq/Scripts/processing/silver/STAR_novel_sjdb_wrapper_silver.slurm\n",
    "\n",
    "# parameters\n",
    "# /tigress/BEE/RNAseq/Scripts/processing/silver/STAR_novel_sjdb_silver.py \\\n",
    "# /tigress/BEE/gtex/data/phenotype/expression/mapped_rna_seq_reads/silver/STAR_1pass_hg38/ \\\n",
    "# /tigress/BEE/gtex/data/silver/STAR_hg38_1pass/STAR_1pass_sjdb.p \\\n",
    "# /tigress/BEE/gtex/data/silver/STAR_hg38_1pass/Number_of_splice_sites_by_number_of_samples_hg19.png \\\n",
    "# /tigress/BEE/gtex/data/silver/STAR_hg38_1pass/SJ.out.tab.Pass1.one.percent.sjdb &"
   ]
  },
  {
   "cell_type": "markdown",
   "metadata": {},
   "source": [
    "Running this script compiles the list of finished STAR 1-pass samples:\n",
    "<code>/tigress/BEE/RNAseq/Scripts/processing/silver/checkpoints/STAR_1pass_hg38_samples.txt</code>\n",
    "\n",
    "As of now, there are <b>7336</b> completed samples.\n",
    "\n",
    "After the outputting the novel sequence junctions to the file:\n",
    "<code>/tigress/BEE/gtex/data/silver/STAR_hg38_1pass/SJ.out.tab.Pass1.one.percent.sjdb</code>\n",
    "\n",
    "we can re-run the STAR genome generator again with an additional parameter:\n",
    "<code>\n",
    "--sjdbFileChrStartEnd /tigress/BEE/gtex/data/silver/STAR_hg38_1pass/SJ.out.tab.Pass1.one.percent.sjdb\n",
    "</code>\n",
    "\n",
    "And output to the following directory:\n",
    "<code>/tigress/BEE/gtex/data/silver/STAR_hg38_2pass/</code>"
   ]
  },
  {
   "cell_type": "code",
   "execution_count": 3,
   "metadata": {
    "collapsed": false
   },
   "outputs": [
    {
     "data": {
      "image/png": "[encoded data removed]",
      "text/plain": [
       "<IPython.core.display.Image object>"
      ]
     },
     "execution_count": 3,
     "metadata": {
      "image/png": {
       "width": 600
      }
     },
     "output_type": "execute_result"
    }
   ],
   "source": [
    "from IPython.display import Image\n",
    "# This part will depend on where the code is being run - the following code uses relative addresses\n",
    "import os\n",
    "proj = os.environ['proj']\n",
    "Image(filename=proj+'/Analysis/auxiliary/expression/Number_of_splice_sites_by_number_of_samples_hg38.png', width = 600) "
   ]
  },
  {
   "cell_type": "markdown",
   "metadata": {},
   "source": [
    "At the threshold of 1% of samples, we get <b>329878</b> novel splice junctions. Now we can generate the STAR genome for the 2nd pass:"
   ]
  },
  {
   "cell_type": "code",
   "execution_count": null,
   "metadata": {
    "collapsed": true
   },
   "outputs": [],
   "source": [
    "%%bash\n",
    "\n",
    "sbatch /tigress/BEE/RNAseq/Scripts/processing/silver/STAR_2pass_genomeGenerate_silver.slurm "
   ]
  },
  {
   "cell_type": "markdown",
   "metadata": {},
   "source": [
    "The generated STAR 2-pass genome can be found here:\n",
    "<code>\n",
    "/tigress/BEE/gtex/data/silver/STAR_hg38_2pass/\n",
    "</code>\n",
    "\n",
    "### STAR 2-pass using generated genome\n",
    "\n",
    "For the second pass, we output the transcriptome alingment files for each sample, as well as the unmapped reads, for downstream analysis.\n",
    "\n",
    "The jobs unzip the fastq files into the scratch directory and perform mapping from there: <code>/scratch/gpfs/$USER/</code>\n",
    "\n",
    "Therefore, we need to partition the samples into multiple jobs to reduce the file i/o overhead. The two parameters in the following script are the number of samples per job, and the number of batches the jobs are organized into.\n",
    "\n",
    "We have the following parameter set for the 2-pass run:\n",
    "<code>\n",
    "--genomeLoad LoadAndKeep \\\n",
    "--genomeDir $STAR_genomeDir \\\n",
    "--readFilesIn /scratch/gpfs/${USER}/${SAMPLE}_1.fastq /scratch/gpfs/${USER}/${SAMPLE}_2.fastq \\\n",
    "--outSAMattributes NH HI AS NM MD \\\n",
    "--outFilterMismatchNoverReadLmax 0.04 \\\n",
    "--sjdbScore 1 \\\n",
    "<b>ENCODE standard options</b>\n",
    "--outFilterType BySJout \\\n",
    "--alignIntronMin 20 \\\n",
    "--alignIntronMax 1000000 \\\n",
    "--alignMatesGapMax 1000000 \\\n",
    "--alignSJoverhangMin 8 \\\n",
    "--alignSJDBoverhangMin 1 \\\n",
    "--outFilterMultimapNmax 20 \\\n",
    "--outFilterMismatchNmax 999 \\\n",
    "<b>needed for RSEM</b>\n",
    "--quantMode TranscriptomeSAM \\\n",
    "<b>needed for rop</b>\n",
    "--outReadsUnmapped Fastx\n",
    "</code>"
   ]
  },
  {
   "cell_type": "code",
   "execution_count": null,
   "metadata": {
    "collapsed": true
   },
   "outputs": [],
   "source": [
    "%%bash\n",
    "\n",
    "mkdir /tigress/BEE/gtex/results/group_general/joblogs/STAR_2pass_hg38\n",
    "chmod -R 775 /tigress/BEE/gtex/results/group_general/joblogs/STAR_2pass_hg38\n",
    "mkdir /tigress/BEE/gtex/data/phenotype/expression/mapped_rna_seq_reads/silver/STAR_2pass_hg38\n",
    "chmod -R 775 /tigress/BEE/gtex/data/phenotype/expression/mapped_rna_seq_reads/silver/STAR_2pass_hg38\n",
    "\n",
    "python /tigress/BEE/RNAseq/Scripts/processing/silver/STAR_2pass_wrapper_silver.py 10 8\n",
    "chmod a+x /tigress/BEE/RNAseq/Scripts/processing/silver/batch/STAR_2pass_wrapper_*"
   ]
  },
  {
   "cell_type": "markdown",
   "metadata": {},
   "source": [
    "<code>\n",
    "sh /tigress/BEE/RNAseq/Scripts/processing/silver/batch/STAR_2pass_wrapper_1.sh\n",
    "sh /tigress/BEE/RNAseq/Scripts/processing/silver/batch/STAR_2pass_wrapper_2.sh\n",
    "sh /tigress/BEE/RNAseq/Scripts/processing/silver/batch/STAR_2pass_wrapper_3.sh\n",
    "sh /tigress/BEE/RNAseq/Scripts/processing/silver/batch/STAR_2pass_wrapper_4.sh\n",
    "sh /tigress/BEE/RNAseq/Scripts/processing/silver/batch/STAR_2pass_wrapper_5.sh\n",
    "sh /tigress/BEE/RNAseq/Scripts/processing/silver/batch/STAR_2pass_wrapper_6.sh\n",
    "sh /tigress/BEE/RNAseq/Scripts/processing/silver/batch/STAR_2pass_wrapper_7.sh\n",
    "sh /tigress/BEE/RNAseq/Scripts/processing/silver/batch/STAR_2pass_wrapper_8.sh\n",
    "</code>\n",
    "\n",
    "The STAR 2-pass transcriptome alignment files can be found here - we only need the transcriptome alingments for RSEM:\n",
    "\n",
    "<code>/tigress/BEE/gtex/data/phenotype/expression/mapped_rna_seq_reads/silver/STAR_2pass_hg38/</code>"
   ]
  },
  {
   "cell_type": "markdown",
   "metadata": {},
   "source": [
    "### Pseudo-alignment quantification with kallisto\n",
    "\n",
    "We also obtain the set of pseudo-aligned quantification estimates, along with bootstraps, using kallisto.\n",
    "\n",
    "First, we want to download the latest human transcriptome fasta files from:\n",
    "\n",
    "http://ftp.ensembl.org/pub/release-89/fasta/homo_sapiens/\n",
    "\n",
    "And build the index (todo - how to incorporate the novel splice junctions into this index?)\n",
    "\n",
    "I have downloaded and deposited the latest kallisto (v 0.43 as of this writing) at:\n",
    "<code>/tigress/BEE/bin/kallisto</code>\n",
    "\n",
    "The transcriptome fasta file used was made by combining the cdna and ncrna files:\n",
    "\n",
    "<code>Homo_sapiens.GRCh38.cdna.all.fa.gz, Homo_sapiens.GRCh38.ncrna.fa.gz</code>\n",
    "\n",
    "And I named it:\n",
    "\n",
    "<code>Homo_sapiens.GRCh38.cdna.ncrna.fa.gz</code>\n",
    "\n",
    "Therefore, the script used for generating the index is:"
   ]
  },
  {
   "cell_type": "code",
   "execution_count": null,
   "metadata": {
    "collapsed": true
   },
   "outputs": [],
   "source": [
    "%%bash\n",
    "\n",
    "/tigress/BEE/bin/kallisto index -i /tigress/BEE/gtex/data/silver/kallisto/GRCh38_combined_transcripts.idx \\\n",
    "/tigress/BEE/gtex/data/silver/kallisto/Homo_sapiens.GRCh38.cdna.ncrna.fa.gz"
   ]
  },
  {
   "cell_type": "markdown",
   "metadata": {},
   "source": [
    "With this index, we can write a wrapper script to obtain the pseudo-alignment quantifications and the bootstrap samples:"
   ]
  },
  {
   "cell_type": "code",
   "execution_count": null,
   "metadata": {
    "collapsed": true
   },
   "outputs": [],
   "source": [
    "%%bash\n",
    "\n",
    "mkdir /tigress/BEE/gtex/results/group_general/joblogs/kallisto_hg38\n",
    "chmod -R 775 /tigress/BEE/gtex/results/group_general/joblogs/kallisto_hg38\n",
    "mkdir /tigress/BEE/gtex/data/phenotype/expression/mapped_rna_seq_reads/silver/kallisto_hg38\n",
    "chmod -R 775 /tigress/BEE/gtex/data/phenotype/expression/mapped_rna_seq_reads/silver/kallisto_hg38\n",
    "\n",
    "python /tigress/BEE/RNAseq/Scripts/processing/silver/kallisto_wrapper_silver.py 10 8\n",
    "chmod a+x /tigress/BEE/RNAseq/Scripts/processing/silver/batch/kallisto_wrapper_*"
   ]
  },
  {
   "cell_type": "markdown",
   "metadata": {},
   "source": [
    "<code>\n",
    "sh /tigress/BEE/RNAseq/Scripts/processing/silver/batch/kallisto_wrapper_1.sh\n",
    "sh /tigress/BEE/RNAseq/Scripts/processing/silver/batch/kallisto_wrapper_2.sh\n",
    "sh /tigress/BEE/RNAseq/Scripts/processing/silver/batch/kallisto_wrapper_3.sh\n",
    "sh /tigress/BEE/RNAseq/Scripts/processing/silver/batch/kallisto_wrapper_4.sh\n",
    "sh /tigress/BEE/RNAseq/Scripts/processing/silver/batch/kallisto_wrapper_5.sh\n",
    "sh /tigress/BEE/RNAseq/Scripts/processing/silver/batch/kallisto_wrapper_6.sh\n",
    "sh /tigress/BEE/RNAseq/Scripts/processing/silver/batch/kallisto_wrapper_7.sh\n",
    "sh /tigress/BEE/RNAseq/Scripts/processing/silver/batch/kallisto_wrapper_8.sh\n",
    "</code>\n",
    "\n",
    "The kallisto pseudo-alignment files can be found here:\n",
    "<code>/tigress/BEE/gtex/data/phenotype/expression/mapped_rna_seq_reads/silver/kallisto_hg38/</code>\n",
    "\n",
    "Since a lot of jobs didn't finish in time (24 hours sometimes insufficient for 10 samples), we have to check whether the h5 files are valid, and set job the re-run jobs.\n",
    "\n",
    "Refer to: <code>\n",
    "https://github.com/bee-hive/RNAseq_pipeline/blob/master/Scripts/processing/silver/kallisto_check_finished_silver.py\n",
    "</code>"
   ]
  },
  {
   "cell_type": "markdown",
   "metadata": {
    "collapsed": true
   },
   "source": [
    "### Expression quantification using RSEM\n",
    "\n",
    "Now that we have the transcriptome mapping files (in BAM format), we can quantify the expression values using RSEM, both at gene and isoform level. We can also obtain other useful information such as 95% confidence interval using the Bayesian model, as well as the visualization of expression (in formats such as WIG).\n",
    "\n",
    "We first need to generate the transcriptome reference for RSEM. Using the newst version, RSEM 1.3.0, we can run the following script to generate the genome:"
   ]
  },
  {
   "cell_type": "code",
   "execution_count": null,
   "metadata": {
    "collapsed": true
   },
   "outputs": [],
   "source": [
    "%%bash\n",
    "\n",
    "/tigress/BEE/bin/RSEM-1.3.0/rsem-prepare-reference \\\n",
    "--gtf /tigress/BEE/gtex/external_sources/hg38_silver/gencode.v26.annotation.mod.gtf \\\n",
    "/tigress/BEE/gtex/external_sources/hg38_silver/Homo_sapiens.GRCh38.dna.primary_assembly.fa \\\n",
    "/tigress/BEE/gtex/data/silver/RSEM_hg38"
   ]
  },
  {
   "cell_type": "markdown",
   "metadata": {},
   "source": [
    "After the RSEM reference has been generated, we can set up the RSEM jobs to quantify the isoform expression levels in each sample:"
   ]
  },
  {
   "cell_type": "code",
   "execution_count": null,
   "metadata": {
    "collapsed": true
   },
   "outputs": [],
   "source": [
    "%%bash\n",
    "\n",
    "mkdir /tigress/BEE/gtex/results/group_general/joblogs/RSEM_hg38\n",
    "chmod -R 775 /tigress/BEE/gtex/results/group_general/joblogs/RSEM_hg38\n",
    "mkdir /tigress/BEE/gtex/data/phenotype/expression/quantified_rna_seq_reads/silver/RSEM_hg38\n",
    "chmod -R 775 /tigress/BEE/gtex/data/phenotype/expression/quantified_rna_seq_reads/silver/RSEM_hg38\n",
    "\n",
    "python /tigress/BEE/RNAseq/Scripts/processing/silver/RSEM_wrapper_silver.py 10 8\n",
    "chmod a+x /tigress/BEE/RNAseq/Scripts/processing/silver/batch/RSEM_wrapper_*"
   ]
  },
  {
   "cell_type": "markdown",
   "metadata": {},
   "source": [
    "<code>\n",
    "sh /tigress/BEE/RNAseq/Scripts/processing/silver/batch/RSEM_wrapper_1.sh\n",
    "sh /tigress/BEE/RNAseq/Scripts/processing/silver/batch/RSEM_wrapper_2.sh\n",
    "sh /tigress/BEE/RNAseq/Scripts/processing/silver/batch/RSEM_wrapper_3.sh\n",
    "sh /tigress/BEE/RNAseq/Scripts/processing/silver/batch/RSEM_wrapper_4.sh\n",
    "sh /tigress/BEE/RNAseq/Scripts/processing/silver/batch/RSEM_wrapper_5.sh\n",
    "sh /tigress/BEE/RNAseq/Scripts/processing/silver/batch/RSEM_wrapper_6.sh\n",
    "sh /tigress/BEE/RNAseq/Scripts/processing/silver/batch/RSEM_wrapper_7.sh\n",
    "sh /tigress/BEE/RNAseq/Scripts/processing/silver/batch/RSEM_wrapper_8.sh\n",
    "</code>\n",
    "\n",
    "The kallisto pseudo-alignment files can be found here:\n",
    "<code>/tigress/BEE/gtex/data/phenotype/expression/quantified_rna_seq_reads/silver/RSEM_hg38/</code>\n"
   ]
  }
 ],
 "metadata": {
  "kernelspec": {
   "display_name": "Python 3",
   "language": "python",
   "name": "python3"
  },
  "language_info": {
   "codemirror_mode": {
    "name": "ipython",
    "version": 3
   },
   "file_extension": ".py",
   "mimetype": "text/x-python",
   "name": "python",
   "nbconvert_exporter": "python",
   "pygments_lexer": "ipython3",
   "version": "3.5.2"
  }
 },
 "nbformat": 4,
 "nbformat_minor": 1
}
