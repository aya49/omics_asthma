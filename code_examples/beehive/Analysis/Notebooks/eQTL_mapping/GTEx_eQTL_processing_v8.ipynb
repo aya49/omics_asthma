{
 "cells": [
  {
   "cell_type": "markdown",
   "metadata": {},
   "source": [
    "# GTEx eQTL detection: trans-eQTLs for v8 consortium paper\n",
    "\n",
    "This notebook summarizes the trans- associations that we draw from the GTEx data, for the consortium paper.\n",
    "\n",
    "## All the relevant code for this pipeline can be viewed at:\n",
    "\n",
    "### https://github.com/bee-hive/RNAseq_pipeline/tree/master/Scripts/eqtls/trans/gtex/v8_consortium/"
   ]
  },
  {
   "cell_type": "markdown",
   "metadata": {},
   "source": [
    "## 1. Pre-processing steps\n",
    "\n",
    "For the GTEx v8 trans-eQTL mapping pipeline, there are a few pre-processing steps. They involve:\n",
    "- Getting the genotype files ready (refer to the Genotype v8 processing notebook for this: https://github.com/bee-hive/RNAseq_pipeline/blob/master/Analysis/Notebooks/genotype/GTEx_v8_genotype_processing.ipynb\n",
    "- Getting the expression files ready\n",
    "- Getting the gene mappability and cross-mapping filters ready\n",
    "\n",
    "The first section will work out the gene mappability and cross-mappability filters for the trans-eQTL pipeline.\n",
    "\n",
    "### 1.1 Getting the gene mappability and cross-mapping filters ready\n",
    "\n",
    "As of this writing, there is no ENCODE mappability track for hg38. Fortunately, we can use another function from the [GEM library](http://gemlibrary.sourceforge.net/), <code>gem-mappability</code>\n",
    "\n",
    "Note that this pipeline was made referring to the following post: https://www.biostars.org/p/181014/\n",
    "\n",
    "I have downded the latest GEM library into the directory:\n",
    "\n",
    "<code>\n",
    "/tigress/BEE/bin/GEM-binaries-Linux-x86_64-core_i3-20130406-045632/\n",
    "</code>\n",
    "\n",
    "In order to use the GEM library, we first need to index the hg38 fasta file, and then run the gem-mappability function with the indexed genome.\n",
    "\n",
    "<code>\n",
    "https://github.com/bee-hive/RNAseq_pipeline/tree/master/Scripts/processing/mappability/slurm/gem_mappability.slurm\n",
    "</code>"
   ]
  },
  {
   "cell_type": "code",
   "execution_count": null,
   "metadata": {
    "collapsed": true
   },
   "outputs": [],
   "source": [
    "%%bash\n",
    "\n",
    "# Index the hg38 genome, and calculate the mappability for 75mers and 36mers\n",
    "\n",
    "sbatch /tigress/BEE/RNAseq/Scripts/processing/mappability/gem-mappability.slurm"
   ]
  },
  {
   "cell_type": "markdown",
   "metadata": {},
   "source": [
    "This step creates the <code>hg38_75mer</code> and <code>hg38_36mer</code> mappability files. Now, we need to use the GEM functionality, <code>gem-2-wig</code> to convert this to wig format, then use <code>wigToBigWig</code> to convert to bigWig format, and finally use the <code>bigWigToBedGraph</code> to convert this file to the bed format, for the mappability and cross-mapping scripts. Unfortunately, we need to divide this step into 2, since the wig output has suffix 'AC' to the chromosome names - I found that we need to delete them separately for the wigTobigWig format to work properly.\n",
    "\n",
    "<code>\n",
    "https://github.com/bee-hive/RNAseq_pipeline/tree/master/Scripts/processing/mappability/slurm/gem_to_wig.slurm\n",
    "</code>\n",
    "<code>\n",
    "https://github.com/bee-hive/RNAseq_pipeline/tree/master/Scripts/processing/mappability/slurm/mod_lines.py\n",
    "</code>\n",
    "\n",
    "Also note that for the <code>bigWigToBedGraph</code> function, I followed the conda install instruction: https://bioconda.github.io/recipes/ucsc-bigwigtobedgraph/README.html\n",
    "\n",
    "<code>\n",
    "https://github.com/bee-hive/RNAseq_pipeline/tree/master/Scripts/processing/mappability/slurm/bigWig_to_BedGraph.slurm\n",
    "</code>"
   ]
  },
  {
   "cell_type": "code",
   "execution_count": null,
   "metadata": {
    "collapsed": true
   },
   "outputs": [],
   "source": [
    "%%bash\n",
    "\n",
    "# Conver the mappability file to wig, then to bigWig, then to bed\n",
    "\n",
    "sbatch /tigress/BEE/RNAseq/Scripts/processing/mappability/gem_to_wig.slurm\n",
    "nohup python /tigress/BEE/RNAseq/Scripts/processing/mappability/mod_lines.py &\n",
    "sbatch /tigress/BEE/RNAseq/Scripts/processing/mappability/gem_to_wig.slurm"
   ]
  },
  {
   "cell_type": "markdown",
   "metadata": {},
   "source": [
    "Now that we have the bed files, we can follow the same mappability file generation pipeline for GTEx v6p paper, coming from the Battle group. The scripts for this pipeline is proprietary, so I'll just include the outline here without sharing the codebase:\n",
    "\n",
    "- Create separate files for exon and utr annotations.\n",
    "- Compute average mappability of genes.\n",
    "- Save multimapped k-mers (75-mer from exon or 36-mer from utr that align to multiple positions in the genome i.e. alignability < 1) of each gene in a separate file in a given directory.\n",
    "- Compute cross-mappabile gene pairs (excuse the file name).\n",
    "\n",
    "Following these steps lead to the generation of gene mappability and cross-mapping gene pair lists, which can be used as filters in the trans-eQTL pipeline."
   ]
  },
  {
   "cell_type": "code",
   "execution_count": null,
   "metadata": {
    "collapsed": true
   },
   "outputs": [],
   "source": [
    "# Needed to download the fasta files for each chromosome \n",
    "import subprocess\n",
    "import os\n",
    "\n",
    "os.chdir('/tigress/BEE/RNAseq/Data/Resources/reference/hg38/')\n",
    "\n",
    "chrs = [str(i+1) for i in range(22)]\n",
    "chrs = chrs + ['X','Y','M']\n",
    "\n",
    "for i in chrs:\n",
    "    subprocess.run(['wget', 'http://hgdownload.cse.ucsc.edu/goldenPath/hg38/chromosomes/chr' + i + '.fa.gz'])\n",
    "\n",
    "# Also needed to download the bowtie index for hg38\n",
    "os.chdir('/tigress/BEE/bin/bowtie_index/')\n",
    "subprocess.run(['wget', 'ftp://ftp.ccb.jhu.edu/pub/data/bowtie_indexes/GRCh38_no_alt.zip'])\n"
   ]
  },
  {
   "cell_type": "markdown",
   "metadata": {},
   "source": [
    "After this step, there are two annotation files saved for the trans-eQTL pipeline:\n",
    "\n",
    "<code>\n",
    "/tigress/BEE/RNAseq/Output/processing/mappability/annotation/hg38_gene_mappability.txt\n",
    "</code>\n",
    "\n",
    "which has the average gene mappability for each gene in hg38, and\n",
    "\n",
    "<code>\n",
    "/tigress/BEE/RNAseq/Output/processing/mappability/annotation/hg38_mappability_conflicts.txt\n",
    "</code>\n",
    "\n",
    "which has the cross-mapping conflict gene pairs for hg38. Using these annotations, we can go ahead with the trans-eQTL pipeline. Note that I created a graph version of this cross-mapping conflict file, which is the file that I actually use the for trans pipeline:\n",
    "\n",
    "<code>\n",
    "/tigress/BEE/RNAseq/Output/processing/mappability/annotation/hg38_mappability_graph.txt\n",
    "</code>"
   ]
  },
  {
   "cell_type": "markdown",
   "metadata": {},
   "source": [
    "## 2. trans-eQTL mapping pipeline\n",
    "\n",
    "The simplest way of looking for trans-eQTLs is to simply plug in all gene expression values and all SNPs and looking for associations. However, we need to be more careful for trans- tests to make sure that we are properly filtering out false positives, since the weaker signal and higher number of tests can lead to mapping artifacts overestimating the strength of association.\n",
    "\n",
    "We are going to have the following filters:\n",
    "\n",
    "1. Filter genes based on mappability - we use a threshold of 0.8.\n",
    "2. Filter SNPs based on RepeatMasker (not belonging to any annotated repeat regions) - this part is covered in the Genotype notebook.\n",
    "3. Cross out any SNP-gene pairs for which there is potential cross-mapping\n",
    "\n",
    "\n",
    "- Repeatmasker raw data, which annotates all repeat regions in human genome version hg19 (including SINEs, LINEs, transposons, etc.), can be found in :\n",
    "\n",
    "<code>/tigress/BEE/RNAseq/Data/Resources/RepeatMasker/</code>\n",
    "\n",
    "- MatrixEQTL runs, in addition to the tissue-specific PEER factors, also include a set covariates: First 5 genotype PCs, sex, genotyping platform, and pcr platform. Either sex or platform is not included if there is only one type (i.e. testis, cervix, etc.)\n",
    "\n",
    "As it can be seen, we put a lot of filters in place to make sure that we get a conservative set of trans-eQTL calls.\n",
    "\n",
    "### 2.1 MatrixEQTL scripts for all-by-all trans tests"
   ]
  },
  {
   "cell_type": "code",
   "execution_count": null,
   "metadata": {
    "collapsed": true
   },
   "outputs": [],
   "source": [
    "%%bash\n",
    "export proj='/tigress/BEE/RNAseq'\n",
    "# gtex gct\n",
    "python $proj/Scripts/eqtls/trans/gtex/v8_consortium/v8_trans_matrix_eqtl_wrapper.py \\\n",
    "/Data/Expression/gtex/hg38/GTEx_Analysis_v8_eQTL_expression_matrices/ \\\n",
    ".v8.normalized_expression.bed.gz /Output/trans-mapping/gtex/MatrixEQTL/v8/all-by-all/ \\\n",
    "/Output/joblogs/trans-mapping/gtex/MatrixEQTL/v8/ v8_trans_matrix_eqtl.R 2.5e8 25000"
   ]
  },
  {
   "cell_type": "markdown",
   "metadata": {},
   "source": [
    "Also refer to the following scripts:\n",
    "\n",
    "<code>https://github.com/bee-hive/RNAseq_pipeline/blob/master/Scripts/eqtls/trans/gtex/v8_consortium/v8_trans_matrix_eqtl_wrapper.py</code>\n",
    "\n",
    "<code>https://github.com/bee-hive/RNAseq_pipeline/blob/master/Scripts/eqtls/trans/gtex/v8_consortium/v8_trans_matrix_eqtl.R</code>\n",
    "\n",
    "After running the above jobs, we have raw output files in Della, located at:\n",
    "\n",
    "<code>\n",
    "/tigress/BEE/RNAseq/Output/trans-mapping/gtex/MatrixEQTL/v8/all-by-all/\n",
    "</code>\n",
    "\n",
    "#### Outputs : Number of genes tested, SNPs tested, Total Number of tests, P-value histograms, eQTL summary statistics below p-value threshold of 1e-5 - 236M for 6 tissues\n",
    "\n",
    "The tissue set that I tested with is:\n",
    "\n",
    "<code>\n",
    "Adipose_Subcutaneous, Cells_EBV-transformed_lymphocytes, Skin_Sun_Exposed_Lower_leg, Testis, Thyroid, Whole_Blood\n",
    "</code>"
   ]
  },
  {
   "cell_type": "markdown",
   "metadata": {},
   "source": [
    "### 2.2 FDR calibration for trans-eQTL mapping\n",
    "\n",
    "After running the MatrixEQTL for all SNP-gene pairs, we collect the overall statistics across parallel runs, and calibrate the FDR in order to assess power. For all-by-all testing, we run Benjamini-Hochberg procedure to calculate FDR. (The null distribution actually shows a depletion of significant hits, which can be shown through p-value histograms and qq-plots, probably due to rigorous correction of covariates)\n"
   ]
  },
  {
   "cell_type": "code",
   "execution_count": null,
   "metadata": {
    "collapsed": true
   },
   "outputs": [],
   "source": [
    "%%bash\n",
    "# gtex gct\n",
    "Rscript $proj/Scripts/eqtls/trans/gtex/v8_consortium/v8_MatrixEQTL_FDR_control.R\n"
   ]
  },
  {
   "cell_type": "markdown",
   "metadata": {},
   "source": [
    "Also refer to the following script:\n",
    "\n",
    "<code>https://github.com/bee-hive/RNAseq_pipeline/blob/master/Scripts/eqtls/trans/gtex/v8_consortium/v8_MatrixEQTL_FDR_control.R</code>\n",
    "\n",
    "Location of resulting eQTL and eGene lists in Della :\n",
    "\n",
    "<code>\n",
    "/tigress/BEE/RNAseq/Output/trans-mapping/gtex/trans-eQTLs/MatrixEQTL/all-by-all-PEER-increments/eqtl_list/\n",
    "</code>\n",
    "\n",
    "#### Outputs : SNP-gene pair trans-eQTLs at FDR 0.05 and 0.10, eGene list at FDR 0.05 and 0.10\n",
    "\n",
    "The following output shows six numbers:\n",
    "trans-eQTL pairs at FDR 5%, 10%\n",
    "unique genes at FDR 5%, 10%\n",
    "unique SNPs at FDR 5%, 10%\n",
    "\n",
    "<code>\n",
    "\"Adipose_Subcutaneous\"\n",
    "[1] 398\n",
    "[1] 524\n",
    "[1] 94\n",
    "[1] 131\n",
    "[1] 366\n",
    "[1] 473\n",
    "[1] \"Cells_EBV-transformed_lymphocytes\"\n",
    "[1] 55\n",
    "[1] 89\n",
    "[1] 15\n",
    "[1] 24\n",
    "[1] 55\n",
    "[1] 88\n",
    "[1] \"Skin_Sun_Exposed_Lower_leg\"\n",
    "[1] 967\n",
    "[1] 1213\n",
    "[1] 172\n",
    "[1] 233\n",
    "[1] 862\n",
    "[1] 1084\n",
    "[1] \"Testis\"\n",
    "[1] 1918\n",
    "[1] 2447\n",
    "[1] 252\n",
    "[1] 380\n",
    "[1] 1463\n",
    "[1] 1865\n",
    "[1] \"Thyroid\"\n",
    "[1] 1092\n",
    "[1] 1296\n",
    "[1] 167\n",
    "[1] 234\n",
    "[1] 720\n",
    "[1] 853\n",
    "[1] \"Whole_Blood\"\n",
    "[1] 566\n",
    "[1] 714\n",
    "[1] 126\n",
    "[1] 169\n",
    "[1] 512\n",
    "[1] 646\n",
    "</code>\n",
    "\n",
    "#### With the increased sample size, we have good power to detect trans-eQTLs in GTEx tissues."
   ]
  },
  {
   "cell_type": "markdown",
   "metadata": {},
   "source": [
    "## 3. Re-run the trans-eQTL pipeline with the updated cross-mapping file and genotype file (SHAPEIT2 imputed genotypes)"
   ]
  },
  {
   "cell_type": "code",
   "execution_count": null,
   "metadata": {
    "collapsed": true
   },
   "outputs": [],
   "source": [
    "%%bash\n",
    "export proj='/tigress/BEE/RNAseq'\n",
    "# gtex gct\n",
    "python $proj/Scripts/eqtls/trans/gtex/v8_consortium/v8_trans_matrix_eqtl_wrapper.py \\\n",
    "/Data/Expression/gtex/hg38/GTEx_Analysis_v8_eQTL_expression_matrices/ \\\n",
    ".v8.normalized_expression.bed.gz /Output/trans-mapping/gtex/MatrixEQTL/v9/all-by-all/ \\\n",
    "/Output/joblogs/trans-mapping/gtex/MatrixEQTL/v8/ v9_trans_matrix_eqtl.R 2.5e8 50000"
   ]
  }
 ],
 "metadata": {
  "anaconda-cloud": {},
  "kernelspec": {
   "display_name": "Python 3",
   "language": "python",
   "name": "python3"
  },
  "language_info": {
   "codemirror_mode": {
    "name": "ipython",
    "version": 3
   },
   "file_extension": ".py",
   "mimetype": "text/x-python",
   "name": "python",
   "nbconvert_exporter": "python",
   "pygments_lexer": "ipython3",
   "version": "3.5.2"
  }
 },
 "nbformat": 4,
 "nbformat_minor": 0
}
