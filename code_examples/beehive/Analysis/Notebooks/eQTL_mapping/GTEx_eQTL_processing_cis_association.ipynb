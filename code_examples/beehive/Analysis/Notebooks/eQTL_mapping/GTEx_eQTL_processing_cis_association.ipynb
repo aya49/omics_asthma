{
 "cells": [
  {
   "cell_type": "code",
   "execution_count": null,
   "metadata": {
    "collapsed": true
   },
   "outputs": [],
   "source": [
    "%%bash\n",
    "export proj='/tigress/BEE/RNAseq'\n",
    "# We only focus on the gtex gct for now\n",
    "# gtex gct\n",
    "python $proj/Scripts/eqtls/cis/gtex/matrix_eqtl_wrapper.py \\\n",
    "/Data/Expression/gtex/hg19/GTEx_phs000424_v6p/normalized/ \\\n",
    "_nonverlapping_certain_autosomes_normalized.txt \\\n",
    "/Output/cis-mapping/gtex/MatrixEQTL/gct-normalized-1M/ \\\n",
    "/Output/joblogs/cis-mapping/gtex/MatrixEQTL/gct-normalized-1M/ \\\n",
    "cis_matrix_eqtl.R 1000000"
   ]
  },
  {
   "cell_type": "code",
   "execution_count": null,
   "metadata": {
    "collapsed": true
   },
   "outputs": [],
   "source": [
    "%%bash\n",
    "\n",
    "python $proj/Scripts/eqtls/trans/gtex/matrix_eqtl_wrapper.py \\\n",
    "/Data/Expression/gtex/hg19/GTEx_phs000424_v6p/normalized/ \\\n",
    "_nonverlapping_certain_autosomes_normalized.txt \\\n",
    "/Output/trans-mapping/gtex/MatrixEQTL/all-by-all/ \\\n",
    "/Output/joblogs/trans-mapping/gtex/MatrixEQTL/all-by-all/ \\\n",
    "trans_matrix_eqtl.R 2.5e8 10"
   ]
  },
  {
   "cell_type": "code",
   "execution_count": null,
   "metadata": {
    "collapsed": true
   },
   "outputs": [],
   "source": [
    "%%bash\n",
    "\n",
    "python $proj/Scripts/eqtls/trans/gtex/matrix_eqtl_wrapper.py \\\n",
    "/Data/Expression/gtex/hg19/GTEx_phs000424_v6p/normalized/ \\\n",
    "_nonverlapping_certain_autosomes_normalized.txt \\\n",
    "/Output/trans-mapping/gtex/MatrixEQTL/all-by-all-1third/ \\\n",
    "/Output/joblogs/trans-mapping/gtex/MatrixEQTL/all-by-all-1third/ \\\n",
    "trans_matrix_eqtl_1third.R 2.5e8 10\n",
    "\n",
    "python $proj/Scripts/eqtls/trans/gtex/matrix_eqtl_wrapper.py \\\n",
    "/Data/Expression/gtex/hg19/GTEx_phs000424_v6p/normalized/ \\\n",
    "_nonverlapping_certain_autosomes_normalized.txt \\\n",
    "/Output/trans-mapping/gtex/MatrixEQTL/all-by-all-2thirds/ \\\n",
    "/Output/joblogs/trans-mapping/gtex/MatrixEQTL/all-by-all-2thirds/ \\\n",
    "trans_matrix_eqtl_2thirds.R 2.5e8 10"
   ]
  },
  {
   "cell_type": "code",
   "execution_count": null,
   "metadata": {
    "collapsed": true
   },
   "outputs": [],
   "source": [
    "%%bash\n",
    "\n",
    "python $proj/Scripts/eqtls/trans/gtex/MatrixEQTL_FDR_control_wrapper.py \\\n",
    "/Output/trans-mapping/gtex/MatrixEQTL/all-by-all/ \\\n",
    "/Output/trans-mapping/gtex/trans-eQTLs/MatrixEQTL/all-by-all/ \\\n",
    "all-by-all all\n",
    "\n",
    "python $proj/Scripts/eqtls/trans/gtex/MatrixEQTL_FDR_control_wrapper.py \\\n",
    "/Output/trans-mapping/gtex/MatrixEQTL/all-by-all-1third/ \\\n",
    "/Output/trans-mapping/gtex/trans-eQTLs/MatrixEQTL/all-by-all-1third/ \\\n",
    "all-by-all-1third all\n",
    "\n",
    "python $proj/Scripts/eqtls/trans/gtex/MatrixEQTL_FDR_control_wrapper.py \\\n",
    "/Output/trans-mapping/gtex/MatrixEQTL/all-by-all-2thirds/ \\\n",
    "/Output/trans-mapping/gtex/trans-eQTLs/MatrixEQTL/all-by-all-2thirds/ \\\n",
    "all-by-all-2thirds all"
   ]
  },
  {
   "cell_type": "code",
   "execution_count": null,
   "metadata": {
    "collapsed": true
   },
   "outputs": [],
   "source": [
    "%%bash\n",
    "\n",
    "/home/daguiar/bin/clusterize -l 24:00:00 -m 24G -c \"Rscript /tigress/BEE/RNAseq/Scripts/eqtls/trans/gtex/Final_trans_list_boxplots.R /Output/trans-mapping/gtex/trans-eQTLs/MatrixEQTL/all-by-all/ 0.10 1e5 all-by-all\"\n",
    "\n",
    "/home/daguiar/bin/clusterize -l 24:00:00 -m 24G -c \"Rscript /tigress/BEE/RNAseq/Scripts/eqtls/trans/gtex/Final_trans_list_boxplots.R /Output/trans-mapping/gtex/trans-eQTLs/MatrixEQTL/all-by-all-1third/ 0.10 1e5 all-by-all-1third\"\n",
    "\n",
    "/home/daguiar/bin/clusterize -l 24:00:00 -m 24G -c \"Rscript /tigress/BEE/RNAseq/Scripts/eqtls/trans/gtex/Final_trans_list_boxplots.R /Output/trans-mapping/gtex/trans-eQTLs/MatrixEQTL/all-by-all-2thirds/ 0.10 1e5 all-by-all-2thirds\"\n"
   ]
  }
 ],
 "metadata": {
  "anaconda-cloud": {},
  "kernelspec": {
   "display_name": "Python 3",
   "language": "python",
   "name": "python3"
  },
  "language_info": {
   "codemirror_mode": {
    "name": "ipython",
    "version": 3
   },
   "file_extension": ".py",
   "mimetype": "text/x-python",
   "name": "python",
   "nbconvert_exporter": "python",
   "pygments_lexer": "ipython3",
   "version": "3.5.2"
  }
 },
 "nbformat": 4,
 "nbformat_minor": 1
}
