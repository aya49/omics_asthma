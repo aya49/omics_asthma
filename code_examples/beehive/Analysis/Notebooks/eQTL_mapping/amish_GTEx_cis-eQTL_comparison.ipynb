{
 "cells": [
  {
   "cell_type": "markdown",
   "metadata": {},
   "source": [
    "# Comparison between Amish and GTEx cis-eQTL comparison\n",
    "\n",
    "This notebook summarizes the comparison between Amish and GTEx cis-eQTL stats.\n",
    "\n",
    "## All the relevant code for this pipeline can be viewed at:\n",
    "\n",
    "### https://github.com/bee-hive/RNAseq_pipeline/tree/master/Scripts/eqtls/amish_pipeline/"
   ]
  },
  {
   "cell_type": "markdown",
   "metadata": {},
   "source": [
    "## 1. Pre-processing steps\n",
    "\n",
    "For each gene, the eQTL stats for all cis-SNPs (in the same chromosome) are written in:\n",
    "\n",
    "<code>/tigress/BEE/amish/analyses/ciseqtl/gemma_output_per_gene/</code>\n",
    "\n",
    "The following script takes a cis-window (150kb for now) and writes all associations by chromosomes in the directory:\n",
    "\n",
    "<code>/tigress/BEE/amish/analyses/ciseqtl/genomewide/cis_eqtls_150kb_chrN.txt</code>\n",
    "\n",
    "<code>https://github.com/bee-hive/RNAseq_pipeline/tree/master/Scripts/eqtls/amish_pipeline/write_amish_ciseqtls.py</code>"
   ]
  },
  {
   "cell_type": "code",
   "execution_count": null,
   "metadata": {
    "collapsed": true
   },
   "outputs": [],
   "source": [
    "%%bash\n",
    "\n",
    "python /tigress/BEE/RNAseq/Scripts/eqtls/amish_pipeline/write_amish_ciseqtls.py\n",
    "\n",
    "head -10 /tigress/BEE/amish/analyses/ciseqtl/genomewide/cis_eqtls_150kb_chr1.txt"
   ]
  },
  {
   "cell_type": "markdown",
   "metadata": {},
   "source": [
    "<code>\n",
    "gene_id\tchr\trs\tps\tn_miss\tallele1\tallele0\taf\tbeta\tse\tl_remle\tl_mle\tp_wald\tp_lrt\tp_score\n",
    "ENSG00000143751.9\t1\t1_226020555_T_C_b37\t226020555\t0\tT\tC\t0.051\t2.335962e-01\t3.284770e-01\t2.354206e-01\t1.362031e-01\t4.787525e-01\t4.434343e-01\t4.617409e-01\n",
    "ENSG00000143751.9\t1\t1_226020754_T_C_b37\t226020754\t0\tT\tC\t0.020\t-1.698723e-01\t5.515366e-01\t2.803462e-01\t1.633995e-01\t7.587651e-01\t7.036687e-01\t7.196894e-01\n",
    "ENSG00000143751.9\t1\t1_226020963_G_T_b37\t226020963\t0\tG\tT\t0.015\t3.097863e-01\t6.238420e-01\t3.241143e-01\t2.081204e-01\t6.206458e-01\t6.030988e-01\t6.048826e-01\n",
    "ENSG00000143751.9\t1\t1_226020988_A_G_b37\t226020988\t0\tA\tG\t0.308\t1.705230e-01\t1.612769e-01\t2.697861e-01\t1.799973e-01\t2.930703e-01\t2.728733e-01\t2.788139e-01\n",
    "ENSG00000143751.9\t1\t1_226021159_A_G_b37\t226021159\t0\tA\tG\t0.076\t4.753731e-01\t2.954591e-01\t1.955902e-01\t1.033283e-01\t1.109851e-01\t9.796505e-02\t1.084263e-01\n",
    "ENSG00000143751.9\t1\t1_226021338_C_T_b37\t226021338\t0\tC\tT\t0.051\t-2.696761e-01\t4.358970e-01\t3.421205e-01\t2.403019e-01\t5.376305e-01\t5.395539e-01\t5.429766e-01\n",
    "ENSG00000143751.9\t1\t1_226021581_G_A_b37\t226021581\t0\tG\tA\t0.066\t3.173607e-01\t3.192957e-01\t3.663678e-01\t2.607994e-01\t3.228038e-01\t3.216562e-01\t3.278849e-01\n",
    "ENSG00000143751.9\t1\t1_226021627_A_G_b37\t226021627\t0\tA\tG\t0.015\t3.097863e-01\t6.238420e-01\t3.241143e-01\t2.081204e-01\t6.206458e-01\t6.030988e-01\t6.048826e-01\n",
    "ENSG00000143751.9\t1\t1_226021835_T_C_b37\t226021835\t0\tT\tC\t0.141\t-1.397015e-03\t2.203955e-01\t3.221105e-01\t2.159763e-01\t9.949559e-01\t9.824597e-01\t9.826598e-01\n",
    "</code>\n",
    "\n",
    "For this pipeline, we'll also write out the corresponding genotype files - combine all variants available in the Amish comparison set from both 1% and 5% GTEx v6p genotype vcf files, in the following directory:\n",
    "\n",
    "<code>/tigress/BEE/RNAseq/Data/Genotype/gtex/amish_comparison/chrN.txt</code>\n",
    "\n",
    "<code>https://github.com/bee-hive/RNAseq_pipeline/tree/master/Scripts/eqtls/amish_pipeline/write_genotypes_amish_comparison_wrapper.py</code>\n",
    "\n",
    "<code>https://github.com/bee-hive/RNAseq_pipeline/tree/master/Scripts/eqtls/amish_pipeline/write_genotypes_amish_comparison.py</code>"
   ]
  },
  {
   "cell_type": "code",
   "execution_count": null,
   "metadata": {
    "collapsed": true
   },
   "outputs": [],
   "source": [
    "%%bash\n",
    "\n",
    "python /tigress/BEE/RNAseq/Scripts/eqtls/amish_pipeline/write_genotypes_amish_comparison_wrapper.py"
   ]
  },
  {
   "cell_type": "markdown",
   "metadata": {},
   "source": [
    "## 2. cis-eQTL mapping\n",
    "\n",
    "Now that the eQTL comparison set and genotype files are ready, we can map the GTEx cis-eQTLs for v6p to compare them to the Amish stats. Specifically, we use the LCL samples from GTEx:\n",
    "\n",
    "<code>https://github.com/bee-hive/RNAseq_pipeline/tree/master/Scripts/eqtls/amish_pipeline/cis_eqtls_amish_comparison_wrapper.py</code>\n",
    "\n",
    "<code>https://github.com/bee-hive/RNAseq_pipeline/tree/master/Scripts/eqtls/amish_pipeline/cis_eqtls_amish_comparison.R</code>\n",
    "\n",
    "The output, which consists of combined data frames for GTEx and Amish cis-eQTLs, are saved in the directory:\n",
    "\n",
    "<code>/tigress/BEE/RNAseq/Output/cis-mapping/amish/cellsebvtransformedlymphocytes/</code>"
   ]
  },
  {
   "cell_type": "code",
   "execution_count": null,
   "metadata": {
    "collapsed": true
   },
   "outputs": [],
   "source": [
    "%%bash\n",
    "\n",
    "python /tigress/BEE/RNAseq/Scripts/eqtls/amish_pipeline/cis_eqtls_amish_comparison_wrapper.py cellsebvtransformedlymphocytes\n",
    "\n",
    "wc -l /tigress/BEE/RNAseq/Output/cis-mapping/amish/cellsebvtransformedlymphocytes/*"
   ]
  },
  {
   "cell_type": "markdown",
   "metadata": {},
   "source": [
    "The number of pairs available to both GTEx v6p LCLs and Amish data:\n",
    "\n",
    "<code>\n",
    "    74250 gtex_amish_comparison_ciseqtls_chr_10.txt\n",
    "    97983 gtex_amish_comparison_ciseqtls_chr_11.txt\n",
    "    98324 gtex_amish_comparison_ciseqtls_chr_12.txt\n",
    "    40555 gtex_amish_comparison_ciseqtls_chr_13.txt\n",
    "    68069 gtex_amish_comparison_ciseqtls_chr_14.txt\n",
    "    63426 gtex_amish_comparison_ciseqtls_chr_15.txt\n",
    "    80651 gtex_amish_comparison_ciseqtls_chr_16.txt\n",
    "   112472 gtex_amish_comparison_ciseqtls_chr_17.txt\n",
    "    33509 gtex_amish_comparison_ciseqtls_chr_18.txt\n",
    "   131912 gtex_amish_comparison_ciseqtls_chr_19.txt\n",
    "   172097 gtex_amish_comparison_ciseqtls_chr_1.txt\n",
    "    50282 gtex_amish_comparison_ciseqtls_chr_20.txt\n",
    "    24100 gtex_amish_comparison_ciseqtls_chr_21.txt\n",
    "    51655 gtex_amish_comparison_ciseqtls_chr_22.txt\n",
    "   124820 gtex_amish_comparison_ciseqtls_chr_2.txt\n",
    "   112543 gtex_amish_comparison_ciseqtls_chr_3.txt\n",
    "    72401 gtex_amish_comparison_ciseqtls_chr_4.txt\n",
    "    88928 gtex_amish_comparison_ciseqtls_chr_5.txt\n",
    "   116660 gtex_amish_comparison_ciseqtls_chr_6.txt\n",
    "    79034 gtex_amish_comparison_ciseqtls_chr_7.txt\n",
    "    69959 gtex_amish_comparison_ciseqtls_chr_8.txt\n",
    "    71893 gtex_amish_comparison_ciseqtls_chr_9.txt\n",
    "  1835523 total\n",
    "</code>"
   ]
  },
  {
   "cell_type": "markdown",
   "metadata": {},
   "source": [
    "## 3. cis-eQTL stats comparison\n",
    "\n",
    "The files from step 2 have the following columns:\n",
    " [1] \"snps\"               \"gene\"               \"statistic\"         \n",
    " [4] \"pvalue\"             \"FDR\"                \"beta\"              \n",
    " [7] \"snp_chr\"            \"snp_pos\"            \"gene_chr\"          \n",
    "[10] \"gene_start\"         \"gene_end\"           \"MAF\"               \n",
    "[13] \"statistic_permuted\" \"pvalue_permuted\"    \"beta_permuted\"     \n",
    "[16] \"amish_af\"           \"amish_allele1\"      \"amish_beta\"        \n",
    "[19] \"amish_se\"           \"l_remle\"            \"l_mle\"             \n",
    "[22] \"p_wald\"             \"p_lrt\"\n",
    "\n",
    "We're going to generate a few plots comparing the results from the two different datasets (and two different analysis methods). This is the (growing) list of comparisons/figures made:\n",
    "\n",
    "1. QQ plots of - Amish/GTEx v6p, Amish/GTEx v6p permuted, GTEx v6p/GTEx v6p permuted\n",
    "2. Extreme value QQ plots of - Amish/GTEx v6p, Amish/GTEx v6p permuted, GTEx v6p/GTEx v6p permuted\n",
    "3. Effect size comparisons of - Amish/GTEx v6p, Amish/GTEx v6p significant pairs only\n",
    "4. Enrichment analysis using Fisher's exact or hypergeometric test"
   ]
  },
  {
   "cell_type": "code",
   "execution_count": null,
   "metadata": {
    "collapsed": true
   },
   "outputs": [],
   "source": [
    "## Rscript:\n",
    "\n",
    "library(ggplot2)\n",
    "save_dir = '/tigress/BEE/RNAseq/Output/cis-mapping/amish/cellsebvtransformedlymphocytes/'\n",
    "comp_table_all = read.table(paste0(save_dir, 'gtex_amish_comparison_ciseqtls_chr_1.txt'), stringsAsFactors=F, sep='\\t', header=T)\n",
    "\n",
    "for (i in c(2:22)) {\n",
    "\tprint(i)\n",
    "\tcomp_table = read.table(paste0(save_dir, 'gtex_amish_comparison_ciseqtls_chr_', i, '.txt'), stringsAsFactors=F, sep='\\t', header=T)\n",
    "\tcomp_table_all = rbind(comp_table_all, comp_table)\n",
    "}\n",
    "\n",
    "# For amish data, the categories are ~5%, ~10%, and rest\n",
    "comp_table_all$amish_af_cat = 'amish_common'\n",
    "comp_table_all$amish_af_cat[comp_table_all$amish_af <= 0.05] = 'amish_rare'\n",
    "\n",
    "# For GTEx data, the categories are ~\n",
    "comp_table_all$gtex_af_cat = 'gtex_common'\n",
    "comp_table_all$gtex_af_cat[comp_table_all$MAF <= 0.05] = 'gtex_rare'\n",
    "comp_table_all$gtex_af_cat[comp_table_all$MAF <= 0.01] = 'gtex_very_rare'\n",
    "\n",
    "g = ggplot(comp_table_all, aes(-log10(pvalue), -log10(p_wald))) + geom_point() + facet_grid(gtex_af_cat ~ amish_af_cat) + xlab('GTEx') + ylab('amish')\n",
    "ggsave(g, filename = '/tigress/BEE/RNAseq/Analysis/Figures/amish_comparison/log_pval_comparison.png', width=8, height=8)\n",
    "g = ggplot(comp_table_all, aes(abs(statistic), abs(amish_beta/amish_se))) + geom_point() + facet_grid(gtex_af_cat ~ amish_af_cat) + xlab('GTEx') + ylab('amish')\n",
    "ggsave(g, filename = '/tigress/BEE/RNAseq/Analysis/Figures/amish_comparison/abs_beta_comparison.png', width=8, height=8)\n",
    "\n",
    "vec1 = comp_table_all$amish_af_cat != 'amish_common'\n",
    "vec2 = comp_table_all$gtex_af_cat != 'gtex_common'\n",
    "vec = vec1 + vec2\n",
    "subset = comp_table_all[(vec!=0),]\n",
    "\n",
    "g = ggplot(subset, aes(-log10(pvalue), -log10(p_wald))) + geom_point() + facet_grid(gtex_af_cat ~ amish_af_cat) + xlab('GTEx') + ylab('amish')\n",
    "ggsave(g, filename = '/tigress/BEE/RNAseq/Analysis/Figures/amish_comparison/log_pval_comparison_alt.png', width=8, height=8)\n",
    "g = ggplot(subset, aes(abs(statistic), abs(amish_beta/amish_se))) + geom_point() + facet_grid(gtex_af_cat ~ amish_af_cat) + xlab('GTEx') + ylab('amish')\n",
    "ggsave(g, filename = '/tigress/BEE/RNAseq/Analysis/Figures/amish_comparison/abs_beta_comparison_alt.png', width=8, height=8)\n"
   ]
  }
 ],
 "metadata": {
  "anaconda-cloud": {},
  "kernelspec": {
   "display_name": "Python 3",
   "language": "python",
   "name": "python3"
  },
  "language_info": {
   "codemirror_mode": {
    "name": "ipython",
    "version": 3
   },
   "file_extension": ".py",
   "mimetype": "text/x-python",
   "name": "python",
   "nbconvert_exporter": "python",
   "pygments_lexer": "ipython3",
   "version": "3.5.2"
  }
 },
 "nbformat": 4,
 "nbformat_minor": 0
}
